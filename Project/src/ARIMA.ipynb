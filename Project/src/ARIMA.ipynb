{
 "cells": [
  {
   "cell_type": "code",
   "execution_count": null,
   "metadata": {},
   "outputs": [],
   "source": [
    "import import_ipynb\n",
    "#import YahooFinance\n",
    "import yfinance as yf\n",
    "import numpy as np # linear algebra\n",
    "import pandas as pd # data processing, CSV file I/O (e.g. pd.read_csv)\n",
    "import keras\n",
    "\n",
    "import matplotlib.pyplot as plt\n",
    "\n",
    "from statsmodels.tsa.stattools import adfuller\n",
    "from statsmodels.graphics.tsaplots import plot_acf,plot_pacf\n",
    "from statsmodels.tsa.arima_model import ARIMA"
   ]
  },
  {
   "cell_type": "code",
   "execution_count": null,
   "metadata": {},
   "outputs": [],
   "source": [
    "data = yf.download(\"CL=F\", period=\"max\")"
   ]
  },
  {
   "cell_type": "code",
   "execution_count": null,
   "metadata": {},
   "outputs": [],
   "source": [
    "data.reset_index(drop=False, inplace=True)"
   ]
  },
  {
   "cell_type": "code",
   "execution_count": null,
   "metadata": {},
   "outputs": [],
   "source": [
    "train_data = data[0:int(len(data)*0.6)]\n",
    "test_data = data[int(len(data)*0.6):] \n",
    "\n",
    "x_train = train_data['Open']\n",
    "x_test = test_data['Open']"
   ]
  },
  {
   "cell_type": "code",
   "execution_count": null,
   "metadata": {},
   "outputs": [],
   "source": [
    "plt.figure(figsize=(12,7))\n",
    "plt.title('WTI Prices')\n",
    "plt.xlabel('Dates')\n",
    "plt.ylabel('Prices')\n",
    "plt.plot(data['Open'], 'black', label='Training Data')\n",
    "plt.xticks(np.arange(0,len(data), 50), data['Date'][0:len(data):50])\n"
   ]
  },
  {
   "cell_type": "code",
   "execution_count": null,
   "metadata": {},
   "outputs": [],
   "source": [
    "plt.figure(figsize=(12,7))\n",
    "plt.title('WTI Prices')\n",
    "plt.xlabel('Dates')\n",
    "plt.ylabel('Prices')\n",
    "plt.plot(data['Open'], 'orange', label='Training Data')\n",
    "plt.plot(test_data['Open'], 'blue', label='Testing Data')\n",
    "plt.xticks(np.arange(0,len(data), 1000), data['Date'][0:len(data):1000])\n",
    "plt.legend()"
   ]
  },
  {
   "cell_type": "code",
   "execution_count": null,
   "metadata": {},
   "outputs": [],
   "source": [
    "#Augmented Dickey-Fuller Test\n",
    "def test_stationarity(timeseries, window = 5, cutoff = 0.01):\n",
    "    #Determing rolling statistics\n",
    "    rolmean = timeseries.rolling(window).mean()\n",
    "    rolstd = timeseries.rolling(window).std()\n",
    "    #Plot rolling statistics:\n",
    "    fig = plt.figure(figsize=(12, 8))\n",
    "    orig = plt.plot(timeseries, color='blue',label='Original')\n",
    "    mean = plt.plot(rolmean, color='red', label='Rolling Mean')\n",
    "    std = plt.plot(rolstd, color='black', label = 'Rolling Std')\n",
    "    plt.legend(loc='best')\n",
    "    plt.xticks(np.arange(0,len(data), 1000), data['Date'][0:len(data):1000])\n",
    "    plt.title('Rolling Mean & Standard Deviation')\n",
    "    plt.show()\n",
    "    #Perform Dickey-Fuller test:\n",
    "    print('Results of Dickey-Fuller Test:')\n",
    "    dftest = adfuller(timeseries, autolag='AIC', maxlag = 20 )\n",
    "    dfoutput = pd.Series(dftest[0:4], index=['Test Statistic','p-value','#Lags Used','Number of Observations Used'])\n",
    "    for key,value in dftest[4].items():\n",
    "        dfoutput['Critical Value (%s)'%key] = value\n",
    "        pvalue = dftest[1]\n",
    "        if pvalue < cutoff:\n",
    "            print('p-value = %.4f. The series is likely stationary.' % pvalue)\n",
    "        else:\n",
    "            print('p-value = %.4f. The series is likely non-stationary.' % pvalue)\n",
    "    print(dfoutput)\n",
    "    \n",
    "test_stationarity(data['Open'])"
   ]
  },
  {
   "cell_type": "code",
   "execution_count": null,
   "metadata": {},
   "outputs": [],
   "source": [
    "# Get the difference of each Adj Close point\n",
    "close_diffs = data['Open'].diff(2)\n",
    "# Drop the first row as it will have a null value in this column\n",
    "close_diffs.dropna(inplace=True)\n",
    "\n",
    "test_stationarity(close_diffs)"
   ]
  },
  {
   "cell_type": "code",
   "execution_count": null,
   "metadata": {},
   "outputs": [],
   "source": [
    "plot_acf(close_diffs)\n",
    "plt.xlabel('Lags (Days)')\n",
    "plt.show()\n",
    "# Break these into two separate cells\n",
    "plot_pacf(close_diffs)\n",
    "plt.xlabel('Lags (Days)')\n",
    "plt.show()"
   ]
  },
  {
   "cell_type": "code",
   "execution_count": null,
   "metadata": {},
   "outputs": [],
   "source": [
    "# fit model\n",
    "wti_arima = ARIMA(train_data['Open'], order=(1,1,1))\n",
    "wti_arima_fit = wti_arima.fit(disp=0)\n",
    "print(wti_arima_fit.summary())"
   ]
  },
  {
   "cell_type": "code",
   "execution_count": null,
   "metadata": {},
   "outputs": [],
   "source": [
    "# Create list of x train valuess\n",
    "history = [x for x in x_train]\n",
    "# establish list for predictions\n",
    "model_predictions = []\n",
    "# Count number of test data points\n",
    "N_test_observations = len(x_test)\n",
    "# loop through every data point\n",
    "for time_point in list(x_test.index):\n",
    "    model = ARIMA(history, order=(1,1,1))\n",
    "    model_fit = model.fit(disp=0)\n",
    "    output = model_fit.forecast()\n",
    "    yhat = output[0]\n",
    "    model_predictions.append(yhat)\n",
    "    true_test_value = x_test[time_point]\n",
    "    history.append(true_test_value)\n",
    "MAE_error = keras.metrics.mean_absolute_error(x_test, model_predictions).numpy()\n",
    "print('Testing Mean Squared Error is {}'.format(MAE_error))\n",
    "%store model_predictions"
   ]
  },
  {
   "cell_type": "code",
   "execution_count": null,
   "metadata": {},
   "outputs": [],
   "source": [
    "# %store model_predictions\n",
    "#%store -r model_predictions\n",
    "# Check to see if it reloaded\n",
    "#model_predictions[:5]\n",
    "# Load model\n",
    "#from statsmodels.tsa.arima.model import ARIMAResults\n",
    "#loaded = ARIMAResults.load('arima_111.pkl')"
   ]
  },
  {
   "cell_type": "code",
   "execution_count": null,
   "metadata": {},
   "outputs": [],
   "source": [
    "plt.rcParams['figure.figsize'] = [20, 10]\n",
    "plt.plot(x_test.index, model_predictions, color='blue', marker='o', linestyle='dashed', \n",
    "         label='Predicted Price')\n",
    "plt.plot(x_test.index, x_test, color='red', label='Actual Price')\n",
    "plt.plot(train_data['Open'], 'orange', label='Training Data')\n",
    "plt.title('WTI Prices Prediction')\n",
    "plt.xlabel('Date')\n",
    "plt.ylabel('Prices')\n",
    "plt.xticks(np.arange(0,len(data), 1000), data['Date'][0:len(data):1000])\n",
    "plt.legend()\n",
    "plt.figure(figsize=(10,6))\n",
    "plt.show()\n",
    "\n",
    "plt.rcParams['figure.figsize'] = [10, 10]\n",
    "plt.plot(x_test.index[-100:], model_predictions[-100:], color='blue',label='Predicted Price')\n",
    "plt.plot(x_test.index[-100:], x_test[-100:], color='red', label='Actual Price')\n",
    "plt.title('WTI Prices Prediction')\n",
    "plt.xlabel('Date')\n",
    "plt.ylabel('Prices')\n",
    "# plt.xticks(np.arange(881,1259,50), df.Date[881:1259:50])\n",
    "plt.legend()\n",
    "plt.figure(figsize=(10,6))\n",
    "plt.show()"
   ]
  },
  {
   "cell_type": "code",
   "execution_count": null,
   "metadata": {},
   "outputs": [],
   "source": [
    "from sklearn import metrics\n",
    "import math\n",
    "import sklearn"
   ]
  },
  {
   "cell_type": "code",
   "execution_count": null,
   "metadata": {},
   "outputs": [],
   "source": [
    "mse = sklearn.metrics.mean_squared_error(x_test, model_predictions)\n",
    "rmse = math.sqrt(mse)\n"
   ]
  },
  {
   "cell_type": "code",
   "execution_count": null,
   "metadata": {},
   "outputs": [],
   "source": [
    "print(rmse)\n",
    "\n",
    "print(x_test.head())"
   ]
  },
  {
   "cell_type": "code",
   "execution_count": null,
   "metadata": {},
   "outputs": [],
   "source": [
    "f= open(\"pred-arima.txt\",\"w\")\n",
    "g= open(\"pred-real.txt\",\"w\")\n",
    "\n",
    "real = list(x_test)\n",
    "\n",
    "for i in range(0,len(test_data)):\n",
    "    f.write(str(real[i]) +\",\")\n",
    "    g.write(str(model_predictions[i][0]) +\",\")\n",
    "    \n",
    "f.close()\n",
    "g.close()"
   ]
  },
  {
   "cell_type": "code",
   "execution_count": null,
   "metadata": {},
   "outputs": [],
   "source": [
    "print(len(real))"
   ]
  },
  {
   "cell_type": "code",
   "execution_count": null,
   "metadata": {},
   "outputs": [],
   "source": []
  }
 ],
 "metadata": {
  "kernelspec": {
   "display_name": "Python 3",
   "language": "python",
   "name": "python3"
  },
  "language_info": {
   "codemirror_mode": {
    "name": "ipython",
    "version": 3
   },
   "file_extension": ".py",
   "mimetype": "text/x-python",
   "name": "python",
   "nbconvert_exporter": "python",
   "pygments_lexer": "ipython3",
   "version": "3.7.4"
  }
 },
 "nbformat": 4,
 "nbformat_minor": 2
}
