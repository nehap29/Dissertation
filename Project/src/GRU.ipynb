{
 "cells": [
  {
   "cell_type": "code",
   "execution_count": 1,
   "metadata": {},
   "outputs": [],
   "source": [
    "from statsmodels.tsa.arima_process import ArmaProcess\n",
    "from statsmodels.tsa.stattools import pacf\n",
    "from statsmodels.regression.linear_model import yule_walker\n",
    "#from statsmodels.tsa.stattools import adfuller\n",
    "import matplotlib.pyplot as plt\n",
    "import numpy as np\n",
    "import time\n",
    "%matplotlib inline"
   ]
  },
  {
   "cell_type": "code",
   "execution_count": 2,
   "metadata": {},
   "outputs": [],
   "source": [
    "import pandas as pd\n",
    "import yfinance as yf\n",
    "#AMZN = yf.download('CL=F', period=\"max\", progress=False)\n",
    "# AMZN = yf.download('AMZN') for all \n",
    "AMZN = pd.read_csv(\"1h_data.csv\")\n",
    "AMZN[\"Date\"] = AMZN[\"Unnamed: 0\"]\n",
    "AMZN.set_index(\"Date\")\n",
    "AMZN.drop(\"Unnamed: 0\", axis=1, inplace=True)\n",
    "all_data = AMZN[['Adj Close','Open', 'High', 'Low', 'Close', 'Volume']].round(2)\n",
    "all_data.head(10)\n",
    "cut = int(len(all_data)*0.8)\n",
    "start = time.time()"
   ]
  },
  {
   "cell_type": "code",
   "execution_count": 3,
   "metadata": {},
   "outputs": [
    {
     "data": {
      "text/plain": [
       "<AxesSubplot:>"
      ]
     },
     "execution_count": 3,
     "metadata": {},
     "output_type": "execute_result"
    },
    {
     "data": {
      "image/png": "[encoded data removed]",
      "text/plain": [
       "<Figure size 432x288 with 1 Axes>"
      ]
     },
     "metadata": {
      "needs_background": "light"
     },
     "output_type": "display_data"
    }
   ],
   "source": [
    "all_data['Adj Close'].plot()"
   ]
  },
  {
   "cell_type": "code",
   "execution_count": 4,
   "metadata": {},
   "outputs": [
    {
     "name": "stdout",
     "output_type": "stream",
     "text": [
      "There are 885 observations in the training data\n",
      "There are 222 observations in the test data\n"
     ]
    }
   ],
   "source": [
    "print(\"There are \"+ str(all_data[: cut].shape[0]) + \" observations in the training data\")\n",
    "print(\"There are \"+ str(all_data[cut:].shape[0]) + \" observations in the test data\")"
   ]
  },
  {
   "cell_type": "code",
   "execution_count": 5,
   "metadata": {},
   "outputs": [
    {
     "data": {
      "text/plain": [
       "(879, 5)"
      ]
     },
     "execution_count": 5,
     "metadata": {},
     "output_type": "execute_result"
    }
   ],
   "source": [
    "def ts_train_test(all_data,time_steps,for_periods):\n",
    "    '''\n",
    "    input: \n",
    "      data: dataframe with dates and price data\n",
    "    output:\n",
    "      X_train, y_train: data from 2013/1/1-2018/12/31\n",
    "      X_test:  data from 2019 -\n",
    "      sc:      insantiated MinMaxScaler object fit to the training data\n",
    "    '''\n",
    "    # create training and test set\n",
    "    ts_train = all_data[:cut].iloc[:,0:1].values\n",
    "    ts_test  = all_data[cut:].iloc[:,0:1].values\n",
    "    ts_train_len = len(ts_train)\n",
    "    ts_test_len = len(ts_test)\n",
    "\n",
    "    # create training data of s samples and t time steps\n",
    "    X_train = []\n",
    "    y_train = []\n",
    "    y_train_stacked = []\n",
    "    for i in range(time_steps,ts_train_len-1): \n",
    "        X_train.append(ts_train[i-time_steps:i,0])\n",
    "        y_train.append(ts_train[i:i+for_periods,0])\n",
    "    X_train, y_train = np.array(X_train), np.array(y_train)\n",
    "\n",
    "    # Reshaping X_train for efficient modelling\n",
    "    X_train = np.reshape(X_train, (X_train.shape[0],X_train.shape[1],1))\n",
    "\n",
    "    inputs = pd.concat((all_data[\"Adj Close\"][:cut], all_data[\"Adj Close\"][ cut :]),axis=0).values\n",
    "    inputs = inputs[len(inputs)-len(ts_test) - time_steps:]\n",
    "    inputs = inputs.reshape(-1,1)\n",
    "\n",
    "    # Preparing X_test\n",
    "    X_test = []\n",
    "    for i in range(time_steps,ts_test_len+time_steps-for_periods):\n",
    "        X_test.append(inputs[i-time_steps:i,0])\n",
    "        \n",
    "    X_test = np.array(X_test)\n",
    "    X_test = np.reshape(X_test, (X_test.shape[0],X_test.shape[1],1))\n",
    "\n",
    "    return X_train, y_train , X_test\n",
    "\n",
    "X_train, y_train, X_test = ts_train_test(all_data,5,2)\n",
    "X_train.shape[0],X_train.shape[1]"
   ]
  },
  {
   "cell_type": "code",
   "execution_count": 6,
   "metadata": {},
   "outputs": [
    {
     "data": {
      "text/html": [
       "<div>\n",
       "<style scoped>\n",
       "    .dataframe tbody tr th:only-of-type {\n",
       "        vertical-align: middle;\n",
       "    }\n",
       "\n",
       "    .dataframe tbody tr th {\n",
       "        vertical-align: top;\n",
       "    }\n",
       "\n",
       "    .dataframe thead th {\n",
       "        text-align: right;\n",
       "    }\n",
       "</style>\n",
       "<table border=\"1\" class=\"dataframe\">\n",
       "  <thead>\n",
       "    <tr style=\"text-align: right;\">\n",
       "      <th></th>\n",
       "      <th>0</th>\n",
       "      <th>1</th>\n",
       "      <th>2</th>\n",
       "      <th>3</th>\n",
       "      <th>4</th>\n",
       "      <th>0</th>\n",
       "      <th>1</th>\n",
       "    </tr>\n",
       "  </thead>\n",
       "  <tbody>\n",
       "    <tr>\n",
       "      <td>0</td>\n",
       "      <td>58.32</td>\n",
       "      <td>58.17</td>\n",
       "      <td>58.28</td>\n",
       "      <td>58.36</td>\n",
       "      <td>58.53</td>\n",
       "      <td>58.71</td>\n",
       "      <td>58.63</td>\n",
       "    </tr>\n",
       "    <tr>\n",
       "      <td>1</td>\n",
       "      <td>58.17</td>\n",
       "      <td>58.28</td>\n",
       "      <td>58.36</td>\n",
       "      <td>58.53</td>\n",
       "      <td>58.71</td>\n",
       "      <td>58.63</td>\n",
       "      <td>58.73</td>\n",
       "    </tr>\n",
       "    <tr>\n",
       "      <td>2</td>\n",
       "      <td>58.28</td>\n",
       "      <td>58.36</td>\n",
       "      <td>58.53</td>\n",
       "      <td>58.71</td>\n",
       "      <td>58.63</td>\n",
       "      <td>58.73</td>\n",
       "      <td>58.54</td>\n",
       "    </tr>\n",
       "    <tr>\n",
       "      <td>3</td>\n",
       "      <td>58.36</td>\n",
       "      <td>58.53</td>\n",
       "      <td>58.71</td>\n",
       "      <td>58.63</td>\n",
       "      <td>58.73</td>\n",
       "      <td>58.54</td>\n",
       "      <td>58.26</td>\n",
       "    </tr>\n",
       "    <tr>\n",
       "      <td>4</td>\n",
       "      <td>58.53</td>\n",
       "      <td>58.71</td>\n",
       "      <td>58.63</td>\n",
       "      <td>58.73</td>\n",
       "      <td>58.54</td>\n",
       "      <td>58.26</td>\n",
       "      <td>58.70</td>\n",
       "    </tr>\n",
       "    <tr>\n",
       "      <td>...</td>\n",
       "      <td>...</td>\n",
       "      <td>...</td>\n",
       "      <td>...</td>\n",
       "      <td>...</td>\n",
       "      <td>...</td>\n",
       "      <td>...</td>\n",
       "      <td>...</td>\n",
       "    </tr>\n",
       "    <tr>\n",
       "      <td>874</td>\n",
       "      <td>59.34</td>\n",
       "      <td>59.23</td>\n",
       "      <td>59.25</td>\n",
       "      <td>59.46</td>\n",
       "      <td>59.28</td>\n",
       "      <td>59.42</td>\n",
       "      <td>59.50</td>\n",
       "    </tr>\n",
       "    <tr>\n",
       "      <td>875</td>\n",
       "      <td>59.23</td>\n",
       "      <td>59.25</td>\n",
       "      <td>59.46</td>\n",
       "      <td>59.28</td>\n",
       "      <td>59.42</td>\n",
       "      <td>59.50</td>\n",
       "      <td>59.44</td>\n",
       "    </tr>\n",
       "    <tr>\n",
       "      <td>876</td>\n",
       "      <td>59.25</td>\n",
       "      <td>59.46</td>\n",
       "      <td>59.28</td>\n",
       "      <td>59.42</td>\n",
       "      <td>59.50</td>\n",
       "      <td>59.44</td>\n",
       "      <td>59.42</td>\n",
       "    </tr>\n",
       "    <tr>\n",
       "      <td>877</td>\n",
       "      <td>59.46</td>\n",
       "      <td>59.28</td>\n",
       "      <td>59.42</td>\n",
       "      <td>59.50</td>\n",
       "      <td>59.44</td>\n",
       "      <td>59.42</td>\n",
       "      <td>59.11</td>\n",
       "    </tr>\n",
       "    <tr>\n",
       "      <td>878</td>\n",
       "      <td>59.28</td>\n",
       "      <td>59.42</td>\n",
       "      <td>59.50</td>\n",
       "      <td>59.44</td>\n",
       "      <td>59.42</td>\n",
       "      <td>59.11</td>\n",
       "      <td>59.57</td>\n",
       "    </tr>\n",
       "  </tbody>\n",
       "</table>\n",
       "<p>879 rows × 7 columns</p>\n",
       "</div>"
      ],
      "text/plain": [
       "         0      1      2      3      4      0      1\n",
       "0    58.32  58.17  58.28  58.36  58.53  58.71  58.63\n",
       "1    58.17  58.28  58.36  58.53  58.71  58.63  58.73\n",
       "2    58.28  58.36  58.53  58.71  58.63  58.73  58.54\n",
       "3    58.36  58.53  58.71  58.63  58.73  58.54  58.26\n",
       "4    58.53  58.71  58.63  58.73  58.54  58.26  58.70\n",
       "..     ...    ...    ...    ...    ...    ...    ...\n",
       "874  59.34  59.23  59.25  59.46  59.28  59.42  59.50\n",
       "875  59.23  59.25  59.46  59.28  59.42  59.50  59.44\n",
       "876  59.25  59.46  59.28  59.42  59.50  59.44  59.42\n",
       "877  59.46  59.28  59.42  59.50  59.44  59.42  59.11\n",
       "878  59.28  59.42  59.50  59.44  59.42  59.11  59.57\n",
       "\n",
       "[879 rows x 7 columns]"
      ]
     },
     "execution_count": 6,
     "metadata": {},
     "output_type": "execute_result"
    }
   ],
   "source": [
    "# Make the 3-D shape to a data frame so we can see: \n",
    "X_train_see = pd.DataFrame(np.reshape(X_train, (X_train.shape[0],X_train.shape[1])))\n",
    "y_train_see = pd.DataFrame(y_train)\n",
    "pd.concat([X_train_see,y_train_see],axis=1)"
   ]
  },
  {
   "cell_type": "code",
   "execution_count": 7,
   "metadata": {},
   "outputs": [
    {
     "data": {
      "text/html": [
       "<div>\n",
       "<style scoped>\n",
       "    .dataframe tbody tr th:only-of-type {\n",
       "        vertical-align: middle;\n",
       "    }\n",
       "\n",
       "    .dataframe tbody tr th {\n",
       "        vertical-align: top;\n",
       "    }\n",
       "\n",
       "    .dataframe thead th {\n",
       "        text-align: right;\n",
       "    }\n",
       "</style>\n",
       "<table border=\"1\" class=\"dataframe\">\n",
       "  <thead>\n",
       "    <tr style=\"text-align: right;\">\n",
       "      <th></th>\n",
       "      <th>0</th>\n",
       "      <th>1</th>\n",
       "      <th>2</th>\n",
       "      <th>3</th>\n",
       "      <th>4</th>\n",
       "    </tr>\n",
       "  </thead>\n",
       "  <tbody>\n",
       "    <tr>\n",
       "      <td>0</td>\n",
       "      <td>59.50</td>\n",
       "      <td>59.44</td>\n",
       "      <td>59.42</td>\n",
       "      <td>59.11</td>\n",
       "      <td>59.57</td>\n",
       "    </tr>\n",
       "    <tr>\n",
       "      <td>1</td>\n",
       "      <td>59.44</td>\n",
       "      <td>59.42</td>\n",
       "      <td>59.11</td>\n",
       "      <td>59.57</td>\n",
       "      <td>59.42</td>\n",
       "    </tr>\n",
       "    <tr>\n",
       "      <td>2</td>\n",
       "      <td>59.42</td>\n",
       "      <td>59.11</td>\n",
       "      <td>59.57</td>\n",
       "      <td>59.42</td>\n",
       "      <td>59.49</td>\n",
       "    </tr>\n",
       "    <tr>\n",
       "      <td>3</td>\n",
       "      <td>59.11</td>\n",
       "      <td>59.57</td>\n",
       "      <td>59.42</td>\n",
       "      <td>59.49</td>\n",
       "      <td>59.73</td>\n",
       "    </tr>\n",
       "    <tr>\n",
       "      <td>4</td>\n",
       "      <td>59.57</td>\n",
       "      <td>59.42</td>\n",
       "      <td>59.49</td>\n",
       "      <td>59.73</td>\n",
       "      <td>59.77</td>\n",
       "    </tr>\n",
       "    <tr>\n",
       "      <td>...</td>\n",
       "      <td>...</td>\n",
       "      <td>...</td>\n",
       "      <td>...</td>\n",
       "      <td>...</td>\n",
       "      <td>...</td>\n",
       "    </tr>\n",
       "    <tr>\n",
       "      <td>215</td>\n",
       "      <td>60.83</td>\n",
       "      <td>60.90</td>\n",
       "      <td>61.14</td>\n",
       "      <td>61.07</td>\n",
       "      <td>61.03</td>\n",
       "    </tr>\n",
       "    <tr>\n",
       "      <td>216</td>\n",
       "      <td>60.90</td>\n",
       "      <td>61.14</td>\n",
       "      <td>61.07</td>\n",
       "      <td>61.03</td>\n",
       "      <td>61.58</td>\n",
       "    </tr>\n",
       "    <tr>\n",
       "      <td>217</td>\n",
       "      <td>61.14</td>\n",
       "      <td>61.07</td>\n",
       "      <td>61.03</td>\n",
       "      <td>61.58</td>\n",
       "      <td>61.39</td>\n",
       "    </tr>\n",
       "    <tr>\n",
       "      <td>218</td>\n",
       "      <td>61.07</td>\n",
       "      <td>61.03</td>\n",
       "      <td>61.58</td>\n",
       "      <td>61.39</td>\n",
       "      <td>61.54</td>\n",
       "    </tr>\n",
       "    <tr>\n",
       "      <td>219</td>\n",
       "      <td>61.03</td>\n",
       "      <td>61.58</td>\n",
       "      <td>61.39</td>\n",
       "      <td>61.54</td>\n",
       "      <td>61.48</td>\n",
       "    </tr>\n",
       "  </tbody>\n",
       "</table>\n",
       "<p>220 rows × 5 columns</p>\n",
       "</div>"
      ],
      "text/plain": [
       "         0      1      2      3      4\n",
       "0    59.50  59.44  59.42  59.11  59.57\n",
       "1    59.44  59.42  59.11  59.57  59.42\n",
       "2    59.42  59.11  59.57  59.42  59.49\n",
       "3    59.11  59.57  59.42  59.49  59.73\n",
       "4    59.57  59.42  59.49  59.73  59.77\n",
       "..     ...    ...    ...    ...    ...\n",
       "215  60.83  60.90  61.14  61.07  61.03\n",
       "216  60.90  61.14  61.07  61.03  61.58\n",
       "217  61.14  61.07  61.03  61.58  61.39\n",
       "218  61.07  61.03  61.58  61.39  61.54\n",
       "219  61.03  61.58  61.39  61.54  61.48\n",
       "\n",
       "[220 rows x 5 columns]"
      ]
     },
     "execution_count": 7,
     "metadata": {},
     "output_type": "execute_result"
    }
   ],
   "source": [
    "# Make the 3-D shape to a data frame so we can see: \n",
    "X_test_see = pd.DataFrame(np.reshape(X_test, (X_test.shape[0],X_test.shape[1])))\n",
    "pd.DataFrame(X_test_see)"
   ]
  },
  {
   "cell_type": "code",
   "execution_count": 8,
   "metadata": {},
   "outputs": [
    {
     "name": "stdout",
     "output_type": "stream",
     "text": [
      "There are 879 samples in the training data\n",
      "There are 220 samples in the test data\n"
     ]
    }
   ],
   "source": [
    "print(\"There are \" + str(X_train.shape[0]) + \" samples in the training data\")\n",
    "print(\"There are \" + str(X_test.shape[0]) + \" samples in the test data\")"
   ]
  },
  {
   "cell_type": "code",
   "execution_count": 9,
   "metadata": {},
   "outputs": [],
   "source": [
    "def actual_pred_plot(preds):\n",
    "    actual_pred = pd.DataFrame(columns = ['Adj. Close', 'prediction'])\n",
    "    name = all_data.iloc[cut].name\n",
    "    actual_pred['Adj. Close'] = all_data.loc[name:,'Adj Close'][0:len(preds)]\n",
    "    actual_pred['prediction'] = preds[:,0]\n",
    "\n",
    "    from keras.metrics import MeanSquaredError\n",
    "    m = MeanSquaredError()\n",
    "    m.update_state(np.array(actual_pred['Adj. Close']),np.array(actual_pred['prediction']))\n",
    "    \n",
    "    return (m.result().numpy(), actual_pred.plot() )"
   ]
  },
  {
   "cell_type": "code",
   "execution_count": 10,
   "metadata": {},
   "outputs": [],
   "source": [
    "def ts_train_test_normalize(all_data,time_steps,for_periods):\n",
    "    '''\n",
    "    input: \n",
    "      data: dataframe with dates and price data\n",
    "    output:\n",
    "      X_train, y_train: data from 2013/1/1-2018/12/31\n",
    "      X_test:  data from 2019 -\n",
    "      sc:      insantiated MinMaxScaler object fit to the training data\n",
    "    '''\n",
    "    # create training and test set\n",
    "    ts_train = all_data[:cut].iloc[:,0:1].values\n",
    "    ts_test  = all_data[cut:].iloc[:,0:1].values\n",
    "    ts_train_len = len(ts_train)\n",
    "    ts_test_len = len(ts_test)\n",
    "\n",
    "    # scale the data\n",
    "    from sklearn.preprocessing import MinMaxScaler\n",
    "    sc = MinMaxScaler(feature_range=(0,1))\n",
    "    ts_train_scaled = sc.fit_transform(ts_train)\n",
    "\n",
    "    # create training data of s samples and t time steps\n",
    "    X_train = []\n",
    "    y_train = []\n",
    "    y_train_stacked = []\n",
    "    for i in range(time_steps,ts_train_len-1): \n",
    "        X_train.append(ts_train_scaled[i-time_steps:i,0])\n",
    "        y_train.append(ts_train_scaled[i:i+for_periods,0])\n",
    "    X_train, y_train = np.array(X_train), np.array(y_train)\n",
    "\n",
    "    # Reshaping X_train for efficient modelling\n",
    "    X_train = np.reshape(X_train, (X_train.shape[0],X_train.shape[1],1))\n",
    "\n",
    "    inputs = pd.concat((all_data[\"Adj Close\"][: cut], all_data[\"Adj Close\"][cut :]),axis=0).values\n",
    "    inputs = inputs[len(inputs)-len(ts_test) - time_steps:]\n",
    "    inputs = inputs.reshape(-1,1)\n",
    "    inputs  = sc.transform(inputs)\n",
    "\n",
    "    # Preparing X_test\n",
    "    X_test = []\n",
    "    for i in range(time_steps,ts_test_len+time_steps-for_periods):\n",
    "        X_test.append(inputs[i-time_steps:i,0])\n",
    "        \n",
    "    X_test = np.array(X_test)\n",
    "    X_test = np.reshape(X_test, (X_test.shape[0],X_test.shape[1],1))\n",
    "\n",
    "    return X_train, y_train , X_test, sc\n",
    "X_train, y_train, X_test, sc = ts_train_test_normalize(all_data,5,2)"
   ]
  },
  {
   "cell_type": "code",
   "execution_count": 11,
   "metadata": {},
   "outputs": [
    {
     "data": {
      "text/plain": [
       "(0.096147515, <AxesSubplot:>)"
      ]
     },
     "execution_count": 11,
     "metadata": {},
     "output_type": "execute_result"
    },
    {
     "data": {
      "image/png": "[encoded data removed]",
      "text/plain": [
       "<Figure size 432x288 with 1 Axes>"
      ]
     },
     "metadata": {
      "needs_background": "light"
     },
     "output_type": "display_data"
    }
   ],
   "source": [
    "def GRU_model(X_train, y_train, X_test, sc):\n",
    "    # create a model\n",
    "    from keras.models import Sequential\n",
    "    from keras.layers import Dense, SimpleRNN, GRU\n",
    "    from keras.optimizers import SGD\n",
    "    \n",
    "    # The GRU architecture\n",
    "    my_GRU_model = Sequential()\n",
    "    # First GRU layer with Dropout regularisation\n",
    "    my_GRU_model.add(GRU(units=50, return_sequences=True, input_shape=(X_train.shape[1],1), activation='tanh'))\n",
    "    #my_GRU_model.add(GRU(units=50, return_sequences=True, input_shape=(X_train.shape[1],1), activation='tanh'))\n",
    "    #my_GRU_model.add(GRU(units=50, return_sequences=True, input_shape=(X_train.shape[1],1), activation='tanh'))\n",
    "    my_GRU_model.add(GRU(units=50, activation='tanh'))\n",
    "    my_GRU_model.add(Dense(units=2))\n",
    "\n",
    "    # Compiling the RNN\n",
    "    my_GRU_model.compile(optimizer=SGD(lr=0.01, decay=1e-7, momentum=0.9, nesterov=False),loss='mean_squared_error')\n",
    "    # Fitting to the training set\n",
    "    my_GRU_model.fit(X_train,y_train,epochs=50,batch_size=150, verbose=0)\n",
    "\n",
    "    GRU_prediction = my_GRU_model.predict(X_test)\n",
    "    GRU_prediction = sc.inverse_transform(GRU_prediction)\n",
    "\n",
    "    return my_GRU_model, GRU_prediction\n",
    "\n",
    "my_GRU_model, GRU_prediction = GRU_model(X_train, y_train, X_test, sc)\n",
    "GRU_prediction[1:10]\n",
    "actual_pred_plot(GRU_prediction)"
   ]
  },
  {
   "cell_type": "code",
   "execution_count": 12,
   "metadata": {},
   "outputs": [
    {
     "name": "stdout",
     "output_type": "stream",
     "text": [
      "timing\n",
      "17.901962995529175\n"
     ]
    },
    {
     "data": {
      "image/png": "[encoded data removed]",
      "text/plain": [
       "<Figure size 432x288 with 1 Axes>"
      ]
     },
     "metadata": {
      "needs_background": "light"
     },
     "output_type": "display_data"
    }
   ],
   "source": [
    "def GRU_model_regularization(X_train, y_train, X_test, sc):\n",
    "    '''\n",
    "    create GRU model trained on X_train and y_train\n",
    "    and make predictions on the X_test data\n",
    "    '''\n",
    "    # create a model\n",
    "    from keras.models import Sequential\n",
    "    from keras.layers import Dense, SimpleRNN, GRU\n",
    "    from keras.optimizers import SGD\n",
    "    from keras.layers import Dropout\n",
    "    \n",
    "    # The GRU architecture\n",
    "    my_GRU_model = Sequential()\n",
    "    # First GRU layer with Dropout regularisation\n",
    "    my_GRU_model.add(GRU(units=50, return_sequences=True, input_shape=(X_train.shape[1],1), activation='tanh'))\n",
    "    my_GRU_model.add(Dropout(0.2))\n",
    "    # Second GRU layer\n",
    "    my_GRU_model.add(GRU(units=50, return_sequences=True, activation='tanh'))\n",
    "    my_GRU_model.add(Dropout(0.2))\n",
    "    \n",
    "    # Third GRU layer\n",
    "    my_GRU_model.add(GRU(units=50, return_sequences=True, activation='tanh'))\n",
    "    my_GRU_model.add(Dropout(0.2))\n",
    "    # Fourth GRU layer\n",
    "    my_GRU_model.add(GRU(units=50, activation='tanh'))\n",
    "    my_GRU_model.add(Dropout(0.2))\n",
    "    # The output layer\n",
    "    my_GRU_model.add(Dense(units=1))\n",
    "    # Compiling the RNN\n",
    "    my_GRU_model.compile(optimizer=SGD(lr=0.01, decay=1e-7, momentum=0.9, nesterov=False),loss='mean_squared_error')\n",
    "    # Fitting to the training set\n",
    "    my_GRU_model.fit(X_train,y_train,epochs=50,batch_size=150, verbose=0)\n",
    "\n",
    "    GRU_predictions = my_GRU_model.predict(X_test)\n",
    "    GRU_predictions = sc.inverse_transform(GRU_predictions)\n",
    "\n",
    "    return my_GRU_model, GRU_predictions\n",
    "\n",
    "my_GRU_model, GRU_predictions = GRU_model_regularization(X_train, y_train, X_test, sc)\n",
    "GRU_predictions[1:10]\n",
    "actual_pred_plot(GRU_prediction)\n",
    "\n",
    "end = time.time()\n",
    "print(\"timing\")\n",
    "print((end - start))"
   ]
  },
  {
   "cell_type": "code",
   "execution_count": 13,
   "metadata": {},
   "outputs": [],
   "source": [
    "result = GRU_prediction[:,0]   \n",
    "    \n",
    "f= open(\"1h-pred-gru.txt\",\"w\")\n",
    "\n",
    "for i in range(0,len(result)):\n",
    "    f.write(str(result[i]) +\",\")    \n",
    "\n",
    "f.close()"
   ]
  },
  {
   "cell_type": "code",
   "execution_count": 14,
   "metadata": {},
   "outputs": [
    {
     "name": "stdout",
     "output_type": "stream",
     "text": [
      "220\n"
     ]
    }
   ],
   "source": [
    "print(len(result))"
   ]
  },
  {
   "cell_type": "code",
   "execution_count": null,
   "metadata": {},
   "outputs": [],
   "source": []
  }
 ],
 "metadata": {
  "kernelspec": {
   "display_name": "Python 3",
   "language": "python",
   "name": "python3"
  },
  "language_info": {
   "codemirror_mode": {
    "name": "ipython",
    "version": 3
   },
   "file_extension": ".py",
   "mimetype": "text/x-python",
   "name": "python",
   "nbconvert_exporter": "python",
   "pygments_lexer": "ipython3",
   "version": "3.7.4"
  }
 },
 "nbformat": 4,
 "nbformat_minor": 2
}
