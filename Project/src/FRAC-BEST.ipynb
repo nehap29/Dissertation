{
 "cells": [
  {
   "cell_type": "code",
   "execution_count": 1,
   "metadata": {},
   "outputs": [],
   "source": [
    "import pandas as pd\n",
    "\n",
    "def abs_error(real_val, pred):\n",
    "    return abs(real_val - pred)\n",
    "    \n",
    "def find_min(real_val,pred_0,pred_1,pred_2,pred_3,pred_4):\n",
    "    res = []\n",
    "    res.append(abs_error(real_val, pred_0))\n",
    "    res.append(abs_error(real_val, pred_1))\n",
    "    res.append(abs_error(real_val, pred_2))\n",
    "    res.append(abs_error(real_val, pred_3))\n",
    "    res.append(abs_error(real_val, pred_4))\n",
    "   \n",
    "    return (res.index(min(res))) \n",
    "                      "
   ]
  },
  {
   "cell_type": "code",
   "execution_count": 2,
   "metadata": {},
   "outputs": [
    {
     "name": "stdout",
     "output_type": "stream",
     "text": [
      "967\n",
      "967\n",
      "967\n",
      "967\n",
      "967\n",
      "967\n"
     ]
    }
   ],
   "source": [
    "lstm = open(\"pred-lstm.txt\")\n",
    "arima = open(\"pred-arima.txt\")\n",
    "real = open(\"pred-real.txt\")\n",
    "gru = open(\"pred-gru.txt\")\n",
    "svm = open(\"pred-svm.txt\")\n",
    "trans = open(\"pred-trans.txt\")\n",
    "\n",
    "a = lstm.readline()\n",
    "b = arima.readline()\n",
    "c = real.readline()\n",
    "d = gru.readline()\n",
    "e = svm.readline()\n",
    "f = trans.readline()\n",
    "\n",
    "lstm = []\n",
    "arima = []\n",
    "real = []\n",
    "gru = []\n",
    "svm = []\n",
    "trans = []\n",
    "\n",
    "\n",
    "for i in a.split(','):\n",
    "    lstm.append(float(i))\n",
    "    \n",
    "for i in b.split(','):\n",
    "    arima.append(float(i))\n",
    "\n",
    "for i in c.split(','):\n",
    "    real.append(float(i))\n",
    "    \n",
    "for i in d.split(','):\n",
    "    gru.append(float(i))\n",
    "    \n",
    "for i in e.split(','):\n",
    "    svm.append(float(i))\n",
    "    \n",
    "for i in f.split(','):\n",
    "    trans.append(float(i))\n",
    "    \n",
    "arima.pop()\n",
    "arima.pop()\n",
    "\n",
    "real.pop()\n",
    "real.pop()\n",
    "\n",
    "svm.pop()\n",
    "\n",
    "\n",
    "lstm = lstm[(1030-968):]\n",
    "arima = arima[(1030-967):]\n",
    "real = real[(1030-967):]\n",
    "gru = gru[(1030-967):]\n",
    "svm = svm[(1030-967):]\n",
    "\n",
    "print(len(lstm))\n",
    "print(len(arima))\n",
    "print(len(real))\n",
    "print(len(gru))\n",
    "print(len(svm))\n",
    "print(len(trans))"
   ]
  },
  {
   "cell_type": "code",
   "execution_count": 14,
   "metadata": {},
   "outputs": [],
   "source": [
    "counter = [0,0,0,0,0]\n",
    "\n",
    "for i in range (int(len(real)*0.5), len(real)):\n",
    "    result = find_min(real[i],arima[i],lstm[i],gru[i],svm[i],trans[i])\n",
    "    \n",
    "    counter[result] += 1\n",
    "\n",
    "for i in counter:\n",
    "    i = i *100/(len(real))\n",
    "\n",
    "\n"
   ]
  },
  {
   "cell_type": "code",
   "execution_count": 15,
   "metadata": {},
   "outputs": [
    {
     "data": {
      "image/png": "[encoded data removed]",
      "text/plain": [
       "<Figure size 432x288 with 1 Axes>"
      ]
     },
     "metadata": {},
     "output_type": "display_data"
    }
   ],
   "source": [
    "import matplotlib.pyplot as plt\n",
    "\n",
    "# Pie chart, where the slices will be ordered and plotted counter-clockwise:\n",
    "labels = 'ARIMA', 'LSTM', 'GRU', 'SVM', 'Transformer'\n",
    "\n",
    "fig1, ax1 = plt.subplots()\n",
    "ax1.pie(counter, labels=labels, autopct='%1.1f%%', startangle=90)\n",
    "ax1.axis('equal')  # Equal aspect ratio ensures that pie is drawn as a circle.\n",
    "ax1.set_title(\"Representation of FRAC-BEST split on test data (01/17 - 05/19)\")\n",
    "\n",
    "plt.show()"
   ]
  },
  {
   "cell_type": "code",
   "execution_count": 6,
   "metadata": {},
   "outputs": [],
   "source": [
    "#SMAPE\n",
    "import numpy as np\n",
    "from math import sqrt\n",
    "def smape(A, F):\n",
    "    A = np.array(A)\n",
    "    F = np.array(F)\n",
    "    return 100/len(A) * np.sum(2 * np.abs(F - A) / (np.abs(A) + np.abs(F)))\n",
    "\n",
    "#RMSE\n",
    "from sklearn.metrics import mean_squared_error as mse\n",
    "\n",
    "\n",
    "#MAE\n",
    "from sklearn.metrics import mean_absolute_error as mae"
   ]
  },
  {
   "cell_type": "code",
   "execution_count": 7,
   "metadata": {},
   "outputs": [
    {
     "name": "stdout",
     "output_type": "stream",
     "text": [
      "2.7678149104639824\n",
      "3.8337498412893334\n",
      "1.2658626354995643\n",
      "1.9579963843912822\n"
     ]
    }
   ],
   "source": [
    "print(smape(real,trans))\n",
    "print(mse(real, trans))\n",
    "print(mae(real, trans))\n",
    "print(sqrt(mse(real, trans)))"
   ]
  },
  {
   "cell_type": "code",
   "execution_count": 8,
   "metadata": {},
   "outputs": [
    {
     "data": {
      "text/plain": [
       "0.9729075168594703"
      ]
     },
     "execution_count": 8,
     "metadata": {},
     "output_type": "execute_result"
    }
   ],
   "source": [
    "from sklearn.metrics import r2_score\n",
    "r2_score(real, trans, multioutput='variance_weighted')"
   ]
  },
  {
   "cell_type": "code",
   "execution_count": null,
   "metadata": {},
   "outputs": [],
   "source": []
  }
 ],
 "metadata": {
  "kernelspec": {
   "display_name": "Python 3",
   "language": "python",
   "name": "python3"
  },
  "language_info": {
   "codemirror_mode": {
    "name": "ipython",
    "version": 3
   },
   "file_extension": ".py",
   "mimetype": "text/x-python",
   "name": "python",
   "nbconvert_exporter": "python",
   "pygments_lexer": "ipython3",
   "version": "3.7.4"
  }
 },
 "nbformat": 4,
 "nbformat_minor": 2
}
