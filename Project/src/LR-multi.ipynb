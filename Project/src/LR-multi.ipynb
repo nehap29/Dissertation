{
 "cells": [
  {
   "cell_type": "code",
   "execution_count": 1,
   "metadata": {},
   "outputs": [],
   "source": [
    "import yfinance as yf\n",
    "# Remote data access for pandas\n",
    "import pandas_datareader as webreader\n",
    "# Mathematical functions \n",
    "import math \n",
    "# Fundamental package for scientific computing with Python\n",
    "import numpy as np \n",
    "# Additional functions for analysing and manipulating data\n",
    "import pandas as pd \n",
    "# Date Functions\n",
    "from datetime import date, timedelta, datetime\n",
    "# This function adds plotting functions for calender dates\n",
    "from pandas.plotting import register_matplotlib_converters\n",
    "# Important package for visualization - we use this to plot the market data\n",
    "import matplotlib.pyplot as plt \n",
    "# Formatting dates\n",
    "import matplotlib.dates as mdates\n",
    "# Packages for measuring model performance / errors\n",
    "from sklearn.metrics import mean_absolute_error, mean_squared_error\n",
    "# Deep learning library, used for neural networks\n",
    "from keras.models import Sequential \n",
    "# Deep learning classes for recurrent and regular densely-connected layers\n",
    "from keras.layers import LSTM, Dense, Dropout\n",
    "# EarlyStopping during model training\n",
    "from keras.callbacks import EarlyStopping\n",
    "# This Scaler removes the median and scales the data according to the quantile range to normalize the price data \n",
    "from sklearn.preprocessing import RobustScaler"
   ]
  },
  {
   "cell_type": "code",
   "execution_count": 2,
   "metadata": {},
   "outputs": [
    {
     "name": "stdout",
     "output_type": "stream",
     "text": [
      "[*********************100%***********************]  1 of 1 completed\n"
     ]
    },
    {
     "data": {
      "text/html": [
       "<div>\n",
       "<style scoped>\n",
       "    .dataframe tbody tr th:only-of-type {\n",
       "        vertical-align: middle;\n",
       "    }\n",
       "\n",
       "    .dataframe tbody tr th {\n",
       "        vertical-align: top;\n",
       "    }\n",
       "\n",
       "    .dataframe thead th {\n",
       "        text-align: right;\n",
       "    }\n",
       "</style>\n",
       "<table border=\"1\" class=\"dataframe\">\n",
       "  <thead>\n",
       "    <tr style=\"text-align: right;\">\n",
       "      <th></th>\n",
       "      <th>Open</th>\n",
       "      <th>High</th>\n",
       "      <th>Low</th>\n",
       "      <th>Close</th>\n",
       "      <th>Adj Close</th>\n",
       "      <th>Volume</th>\n",
       "    </tr>\n",
       "    <tr>\n",
       "      <th>Datetime</th>\n",
       "      <th></th>\n",
       "      <th></th>\n",
       "      <th></th>\n",
       "      <th></th>\n",
       "      <th></th>\n",
       "      <th></th>\n",
       "    </tr>\n",
       "  </thead>\n",
       "  <tbody>\n",
       "    <tr>\n",
       "      <td>2021-03-09 00:00:00-05:00</td>\n",
       "      <td>65.519997</td>\n",
       "      <td>65.570000</td>\n",
       "      <td>65.500000</td>\n",
       "      <td>65.500000</td>\n",
       "      <td>65.500000</td>\n",
       "      <td>0</td>\n",
       "    </tr>\n",
       "    <tr>\n",
       "      <td>2021-03-09 00:05:00-05:00</td>\n",
       "      <td>65.500000</td>\n",
       "      <td>65.559998</td>\n",
       "      <td>65.480003</td>\n",
       "      <td>65.519997</td>\n",
       "      <td>65.519997</td>\n",
       "      <td>159</td>\n",
       "    </tr>\n",
       "    <tr>\n",
       "      <td>2021-03-09 00:10:00-05:00</td>\n",
       "      <td>65.519997</td>\n",
       "      <td>65.570000</td>\n",
       "      <td>65.519997</td>\n",
       "      <td>65.559998</td>\n",
       "      <td>65.559998</td>\n",
       "      <td>103</td>\n",
       "    </tr>\n",
       "    <tr>\n",
       "      <td>2021-03-09 00:15:00-05:00</td>\n",
       "      <td>65.559998</td>\n",
       "      <td>65.589996</td>\n",
       "      <td>65.540001</td>\n",
       "      <td>65.570000</td>\n",
       "      <td>65.570000</td>\n",
       "      <td>209</td>\n",
       "    </tr>\n",
       "    <tr>\n",
       "      <td>2021-03-09 00:20:00-05:00</td>\n",
       "      <td>65.559998</td>\n",
       "      <td>65.559998</td>\n",
       "      <td>65.510002</td>\n",
       "      <td>65.540001</td>\n",
       "      <td>65.540001</td>\n",
       "      <td>214</td>\n",
       "    </tr>\n",
       "  </tbody>\n",
       "</table>\n",
       "</div>"
      ],
      "text/plain": [
       "                                Open       High        Low      Close  \\\n",
       "Datetime                                                                \n",
       "2021-03-09 00:00:00-05:00  65.519997  65.570000  65.500000  65.500000   \n",
       "2021-03-09 00:05:00-05:00  65.500000  65.559998  65.480003  65.519997   \n",
       "2021-03-09 00:10:00-05:00  65.519997  65.570000  65.519997  65.559998   \n",
       "2021-03-09 00:15:00-05:00  65.559998  65.589996  65.540001  65.570000   \n",
       "2021-03-09 00:20:00-05:00  65.559998  65.559998  65.510002  65.540001   \n",
       "\n",
       "                           Adj Close  Volume  \n",
       "Datetime                                      \n",
       "2021-03-09 00:00:00-05:00  65.500000       0  \n",
       "2021-03-09 00:05:00-05:00  65.519997     159  \n",
       "2021-03-09 00:10:00-05:00  65.559998     103  \n",
       "2021-03-09 00:15:00-05:00  65.570000     209  \n",
       "2021-03-09 00:20:00-05:00  65.540001     214  "
      ]
     },
     "execution_count": 2,
     "metadata": {},
     "output_type": "execute_result"
    }
   ],
   "source": [
    "df = yf.download(\"CL=F\", period=\"10d\", interval=\"5m\")\n",
    "values = df.values\n",
    "df.head()"
   ]
  },
  {
   "cell_type": "code",
   "execution_count": 3,
   "metadata": {},
   "outputs": [
    {
     "data": {
      "image/png": "[encoded data removed]",
      "text/plain": [
       "<Figure size 432x288 with 6 Axes>"
      ]
     },
     "metadata": {
      "needs_background": "light"
     },
     "output_type": "display_data"
    }
   ],
   "source": [
    "# load dataset\n",
    "# specify columns to plot\n",
    "groups = [0, 1, 2, 3, 4,5]\n",
    "i = 1\n",
    "# plot each column\n",
    "plt.figure()\n",
    "for group in groups:\n",
    " plt.subplot(len(groups), 1, i)\n",
    " plt.plot(values[:, group])\n",
    " plt.title(df.columns[group], y=0.5, loc='right')\n",
    " i += 1\n",
    "plt.show()"
   ]
  },
  {
   "cell_type": "code",
   "execution_count": 4,
   "metadata": {},
   "outputs": [
    {
     "data": {
      "text/html": [
       "<div>\n",
       "<style scoped>\n",
       "    .dataframe tbody tr th:only-of-type {\n",
       "        vertical-align: middle;\n",
       "    }\n",
       "\n",
       "    .dataframe tbody tr th {\n",
       "        vertical-align: top;\n",
       "    }\n",
       "\n",
       "    .dataframe thead th {\n",
       "        text-align: right;\n",
       "    }\n",
       "</style>\n",
       "<table border=\"1\" class=\"dataframe\">\n",
       "  <thead>\n",
       "    <tr style=\"text-align: right;\">\n",
       "      <th></th>\n",
       "      <th>Open</th>\n",
       "      <th>High</th>\n",
       "      <th>Low</th>\n",
       "      <th>Close</th>\n",
       "      <th>Adj Close</th>\n",
       "      <th>Volume</th>\n",
       "      <th>Month</th>\n",
       "      <th>Year</th>\n",
       "    </tr>\n",
       "  </thead>\n",
       "  <tbody>\n",
       "    <tr>\n",
       "      <td>0</td>\n",
       "      <td>65.519997</td>\n",
       "      <td>65.570000</td>\n",
       "      <td>65.500000</td>\n",
       "      <td>65.500000</td>\n",
       "      <td>65.500000</td>\n",
       "      <td>0</td>\n",
       "      <td>03</td>\n",
       "      <td>2021</td>\n",
       "    </tr>\n",
       "    <tr>\n",
       "      <td>1</td>\n",
       "      <td>65.500000</td>\n",
       "      <td>65.559998</td>\n",
       "      <td>65.480003</td>\n",
       "      <td>65.519997</td>\n",
       "      <td>65.519997</td>\n",
       "      <td>159</td>\n",
       "      <td>03</td>\n",
       "      <td>2021</td>\n",
       "    </tr>\n",
       "    <tr>\n",
       "      <td>2</td>\n",
       "      <td>65.519997</td>\n",
       "      <td>65.570000</td>\n",
       "      <td>65.519997</td>\n",
       "      <td>65.559998</td>\n",
       "      <td>65.559998</td>\n",
       "      <td>103</td>\n",
       "      <td>03</td>\n",
       "      <td>2021</td>\n",
       "    </tr>\n",
       "    <tr>\n",
       "      <td>3</td>\n",
       "      <td>65.559998</td>\n",
       "      <td>65.589996</td>\n",
       "      <td>65.540001</td>\n",
       "      <td>65.570000</td>\n",
       "      <td>65.570000</td>\n",
       "      <td>209</td>\n",
       "      <td>03</td>\n",
       "      <td>2021</td>\n",
       "    </tr>\n",
       "    <tr>\n",
       "      <td>4</td>\n",
       "      <td>65.559998</td>\n",
       "      <td>65.559998</td>\n",
       "      <td>65.510002</td>\n",
       "      <td>65.540001</td>\n",
       "      <td>65.540001</td>\n",
       "      <td>214</td>\n",
       "      <td>03</td>\n",
       "      <td>2021</td>\n",
       "    </tr>\n",
       "  </tbody>\n",
       "</table>\n",
       "</div>"
      ],
      "text/plain": [
       "        Open       High        Low      Close  Adj Close  Volume Month  Year\n",
       "0  65.519997  65.570000  65.500000  65.500000  65.500000       0    03  2021\n",
       "1  65.500000  65.559998  65.480003  65.519997  65.519997     159    03  2021\n",
       "2  65.519997  65.570000  65.519997  65.559998  65.559998     103    03  2021\n",
       "3  65.559998  65.589996  65.540001  65.570000  65.570000     209    03  2021\n",
       "4  65.559998  65.559998  65.510002  65.540001  65.540001     214    03  2021"
      ]
     },
     "execution_count": 4,
     "metadata": {},
     "output_type": "execute_result"
    }
   ],
   "source": [
    "# Indexing Batches\n",
    "train_df = df\n",
    "train_df = train_df.sort_values(by=['Datetime']).copy()\n",
    "\n",
    "# We safe a copy of the dates index, before we need to reset it to numbers\n",
    "date_index = train_df.index\n",
    "\n",
    "# Adding Month and Year in separate columns\n",
    "d = pd.to_datetime(train_df.index)\n",
    "train_df['Month'] = d.strftime(\"%m\") \n",
    "train_df['Year'] = d.strftime(\"%Y\") \n",
    "\n",
    "# We reset the index, so we can convert the date-index to a number-index\n",
    "train_df = train_df.reset_index(drop=True).copy()\n",
    "train_df.head(5)"
   ]
  },
  {
   "cell_type": "code",
   "execution_count": 5,
   "metadata": {},
   "outputs": [
    {
     "name": "stdout",
     "output_type": "stream",
     "text": [
      "FEATURE LIST\n",
      "['High', 'Low', 'Open', 'Close', 'Volume', 'Month']\n"
     ]
    },
    {
     "data": {
      "text/html": [
       "<div>\n",
       "<style scoped>\n",
       "    .dataframe tbody tr th:only-of-type {\n",
       "        vertical-align: middle;\n",
       "    }\n",
       "\n",
       "    .dataframe tbody tr th {\n",
       "        vertical-align: top;\n",
       "    }\n",
       "\n",
       "    .dataframe thead th {\n",
       "        text-align: right;\n",
       "    }\n",
       "</style>\n",
       "<table border=\"1\" class=\"dataframe\">\n",
       "  <thead>\n",
       "    <tr style=\"text-align: right;\">\n",
       "      <th></th>\n",
       "      <th>High</th>\n",
       "      <th>Low</th>\n",
       "      <th>Open</th>\n",
       "      <th>Close</th>\n",
       "      <th>Volume</th>\n",
       "      <th>Month</th>\n",
       "    </tr>\n",
       "  </thead>\n",
       "  <tbody>\n",
       "    <tr>\n",
       "      <td>2288</td>\n",
       "      <td>59.189999</td>\n",
       "      <td>58.939999</td>\n",
       "      <td>59.110001</td>\n",
       "      <td>58.970001</td>\n",
       "      <td>567</td>\n",
       "      <td>03</td>\n",
       "    </tr>\n",
       "    <tr>\n",
       "      <td>2289</td>\n",
       "      <td>59.459999</td>\n",
       "      <td>58.959999</td>\n",
       "      <td>58.970001</td>\n",
       "      <td>59.320000</td>\n",
       "      <td>332</td>\n",
       "      <td>03</td>\n",
       "    </tr>\n",
       "    <tr>\n",
       "      <td>2290</td>\n",
       "      <td>59.740002</td>\n",
       "      <td>59.240002</td>\n",
       "      <td>59.279999</td>\n",
       "      <td>59.630001</td>\n",
       "      <td>279</td>\n",
       "      <td>03</td>\n",
       "    </tr>\n",
       "    <tr>\n",
       "      <td>2291</td>\n",
       "      <td>59.639999</td>\n",
       "      <td>59.549999</td>\n",
       "      <td>59.549999</td>\n",
       "      <td>59.630001</td>\n",
       "      <td>279</td>\n",
       "      <td>03</td>\n",
       "    </tr>\n",
       "    <tr>\n",
       "      <td>2292</td>\n",
       "      <td>59.630001</td>\n",
       "      <td>59.630001</td>\n",
       "      <td>59.630001</td>\n",
       "      <td>59.630001</td>\n",
       "      <td>0</td>\n",
       "      <td>03</td>\n",
       "    </tr>\n",
       "  </tbody>\n",
       "</table>\n",
       "</div>"
      ],
      "text/plain": [
       "           High        Low       Open      Close  Volume Month\n",
       "2288  59.189999  58.939999  59.110001  58.970001     567    03\n",
       "2289  59.459999  58.959999  58.970001  59.320000     332    03\n",
       "2290  59.740002  59.240002  59.279999  59.630001     279    03\n",
       "2291  59.639999  59.549999  59.549999  59.630001     279    03\n",
       "2292  59.630001  59.630001  59.630001  59.630001       0    03"
      ]
     },
     "execution_count": 5,
     "metadata": {},
     "output_type": "execute_result"
    }
   ],
   "source": [
    "# List of considered Features\n",
    "FEATURES = ['High', 'Low', 'Open', 'Close', 'Volume', 'Month', \n",
    "            #'Adj Close'\n",
    "           ]\n",
    "print('FEATURE LIST')\n",
    "print([f for f in FEATURES])\n",
    "\n",
    "# Create the dataset with features and filter the data to the list of FEATURES\n",
    "data = pd.DataFrame(train_df)\n",
    "data_filtered = data[FEATURES]\n",
    "\n",
    "# Print the tail of the dataframe\n",
    "data_filtered.tail()"
   ]
  },
  {
   "cell_type": "code",
   "execution_count": 6,
   "metadata": {},
   "outputs": [
    {
     "name": "stdout",
     "output_type": "stream",
     "text": [
      "(2293, 6)\n"
     ]
    }
   ],
   "source": [
    "# Calculate the number of rows in the data\n",
    "nrows = data_filtered.shape[0]\n",
    "np_data_unscaled = np.array(data_filtered)\n",
    "np_data_unscaled = np.reshape(np_data_unscaled, (nrows, -1))\n",
    "print(np_data_unscaled.shape)\n",
    "\n",
    "# Transform the data by scaling each feature to a range between 0 and 1\n",
    "scaler = RobustScaler()\n",
    "np_data = scaler.fit_transform(np_data_unscaled)\n",
    "\n",
    "# Creating a separate scaler that works on a single column for scaling predictions\n",
    "scaler_pred = RobustScaler()\n",
    "df_Close = pd.DataFrame(data_filtered['Close'])\n",
    "np_Close_scaled = scaler_pred.fit_transform(df_Close)"
   ]
  },
  {
   "cell_type": "code",
   "execution_count": 7,
   "metadata": {},
   "outputs": [
    {
     "name": "stdout",
     "output_type": "stream",
     "text": [
      "(1735, 100, 6) (1735,)\n",
      "(458, 100, 6) (458,)\n"
     ]
    }
   ],
   "source": [
    "#Settings\n",
    "sequence_length = 100\n",
    "\n",
    "# Split the training data into x_train and y_train data sets\n",
    "# Get the number of rows to train the model on 80% of the data \n",
    "train_data_len = math.ceil(np_data.shape[0] * 0.8) #2616\n",
    "\n",
    "# Create the training data\n",
    "train_data = np_data[0:train_data_len, :]\n",
    "x_train, y_train = [], []\n",
    "# The RNN needs data with the format of [samples, time steps, features].\n",
    "# Here, we create N samples, 100 time steps per sample, and 2 features\n",
    "for i in range(100, train_data_len):\n",
    "    x_train.append(train_data[i-sequence_length:i,:]) #contains 100 values 0-100 * columsn\n",
    "    y_train.append(train_data[i, 0]) #contains the prediction values for validation\n",
    "    \n",
    "# Convert the x_train and y_train to numpy arrays\n",
    "x_train, y_train = np.array(x_train), np.array(y_train)\n",
    "\n",
    "# Create the test data\n",
    "test_data = np_data[train_data_len - sequence_length:, :]\n",
    "\n",
    "# Split the test data into x_test and y_test\n",
    "x_test, y_test = [], []\n",
    "test_data_len = test_data.shape[0]\n",
    "for i in range(sequence_length, test_data_len):\n",
    "    x_test.append(test_data[i-sequence_length:i,:]) #contains 100 values 0-100 * columsn\n",
    "    y_test.append(test_data[i, 0]) #contains the prediction values for validation\n",
    "# Convert the x_train and y_train to numpy arrays\n",
    "x_test, y_test = np.array(x_test), np.array(y_test)\n",
    "\n",
    "# Convert the x_train and y_train to numpy arrays\n",
    "x_test = np.array(x_test); y_test = np.array(y_test)\n",
    "    \n",
    "print(x_train.shape, y_train.shape)\n",
    "print(x_test.shape, y_test.shape)"
   ]
  },
  {
   "cell_type": "code",
   "execution_count": 8,
   "metadata": {},
   "outputs": [
    {
     "name": "stdout",
     "output_type": "stream",
     "text": [
      "600 100 6\n"
     ]
    }
   ],
   "source": [
    "# Configure the neural network model\n",
    "model = Sequential()\n",
    "\n",
    "# Model with 100 Neurons \n",
    "# inputshape = 100 Timestamps, each with x_train.shape[2] variables\n",
    "n_neurons = x_train.shape[1] * x_train.shape[2]\n",
    "print(n_neurons, x_train.shape[1], x_train.shape[2])\n",
    "model.add(LSTM(n_neurons, return_sequences=False, \n",
    "               input_shape=(x_train.shape[1], x_train.shape[2]))) \n",
    "model.add(Dense(1, activation='relu'))\n",
    "\n",
    "# Compile the model\n",
    "model.compile(optimizer='adam', loss='mean_squared_error')"
   ]
  },
  {
   "cell_type": "code",
   "execution_count": 9,
   "metadata": {},
   "outputs": [
    {
     "name": "stdout",
     "output_type": "stream",
     "text": [
      "Epoch 1/10\n",
      "109/109 [==============================] - 26s 221ms/step - loss: 0.1130\n",
      "Epoch 2/10\n",
      "109/109 [==============================] - 26s 237ms/step - loss: 0.0894\n",
      "Epoch 3/10\n",
      "109/109 [==============================] - 26s 237ms/step - loss: 0.0827\n",
      "Epoch 4/10\n",
      "109/109 [==============================] - 25s 229ms/step - loss: 0.0929\n",
      "Epoch 5/10\n",
      "109/109 [==============================] - 25s 232ms/step - loss: 0.0811\n",
      "Epoch 6/10\n",
      "109/109 [==============================] - 27s 245ms/step - loss: 0.0832\n",
      "Epoch 7/10\n",
      "109/109 [==============================] - 26s 235ms/step - loss: 0.0839\n",
      "Epoch 00007: early stopping\n"
     ]
    }
   ],
   "source": [
    "# Training the model\n",
    "epochs = 10\n",
    "early_stop = EarlyStopping(monitor='loss', patience=2, verbose=1)\n",
    "history = model.fit(x_train, y_train, batch_size=16, \n",
    "                    epochs=epochs, callbacks=[early_stop])"
   ]
  },
  {
   "cell_type": "code",
   "execution_count": 10,
   "metadata": {},
   "outputs": [
    {
     "data": {
      "image/png": "[encoded data removed]",
      "text/plain": [
       "<Figure size 360x360 with 1 Axes>"
      ]
     },
     "metadata": {
      "needs_background": "light"
     },
     "output_type": "display_data"
    }
   ],
   "source": [
    "# Plot training & validation loss values\n",
    "fig, ax = plt.subplots(figsize=(5, 5), sharex=True)\n",
    "plt.plot(history.history[\"loss\"])\n",
    "plt.title(\"Model loss\")\n",
    "plt.ylabel(\"Loss\")\n",
    "plt.xlabel(\"Epoch\")\n",
    "ax.xaxis.set_major_locator(plt.MaxNLocator(epochs))\n",
    "plt.legend([\"Train\", \"Test\"], loc=\"upper left\")\n",
    "plt.grid()\n",
    "plt.show()"
   ]
  },
  {
   "cell_type": "code",
   "execution_count": 11,
   "metadata": {},
   "outputs": [
    {
     "name": "stdout",
     "output_type": "stream",
     "text": [
      "Mean Absolute Percentage Error (MAPE): 100.0 %\n",
      "Median Absolute Percentage Error (MDAPE): 100.0 %\n"
     ]
    }
   ],
   "source": [
    "# Get the predicted values\n",
    "predictions = model.predict(x_test)\n",
    "\n",
    "# Mean Absolute Percentage Error (MAPE)\n",
    "MAPE = np.mean((np.abs(np.subtract(y_test, predictions)/ y_test))) * 100\n",
    "print('Mean Absolute Percentage Error (MAPE): ' + str(np.round(MAPE, 2)) + ' %')\n",
    "\n",
    "# Median Absolute Percentage Error (MDAPE)\n",
    "MDAPE = np.median((np.abs(np.subtract(y_test, predictions)/ y_test)) ) * 100\n",
    "print('Median Absolute Percentage Error (MDAPE): ' + str(np.round(MDAPE, 2)) + ' %')"
   ]
  },
  {
   "cell_type": "code",
   "execution_count": 16,
   "metadata": {},
   "outputs": [
    {
     "name": "stderr",
     "output_type": "stream",
     "text": [
      "/opt/anaconda3/lib/python3.7/site-packages/pandas/core/indexing.py:376: SettingWithCopyWarning: \n",
      "A value is trying to be set on a copy of a slice from a DataFrame.\n",
      "Try using .loc[row_indexer,col_indexer] = value instead\n",
      "\n",
      "See the caveats in the documentation: http://pandas.pydata.org/pandas-docs/stable/user_guide/indexing.html#returning-a-view-versus-a-copy\n",
      "  self.obj[key] = _infer_fill_value(value)\n",
      "/opt/anaconda3/lib/python3.7/site-packages/pandas/core/indexing.py:494: SettingWithCopyWarning: \n",
      "A value is trying to be set on a copy of a slice from a DataFrame.\n",
      "Try using .loc[row_indexer,col_indexer] = value instead\n",
      "\n",
      "See the caveats in the documentation: http://pandas.pydata.org/pandas-docs/stable/user_guide/indexing.html#returning-a-view-versus-a-copy\n",
      "  self.obj[item] = s\n"
     ]
    },
    {
     "data": {
      "image/png": "[encoded data removed]",
      "text/plain": [
       "<Figure size 1584x720 with 1 Axes>"
      ]
     },
     "metadata": {
      "needs_background": "light"
     },
     "output_type": "display_data"
    }
   ],
   "source": [
    "# Get the predicted values\n",
    "pred_unscaled = scaler_pred.inverse_transform(predictions)\n",
    "\n",
    "# The date from which on the date is displayed\n",
    "display_start_date = pd.Timestamp('today') - timedelta(days=500)\n",
    "\n",
    "# Add the date column\n",
    "data_filtered_sub = data_filtered.copy()\n",
    "data_filtered_sub['Date'] = date_index\n",
    "\n",
    "# Add the difference between the valid and predicted prices\n",
    "train = data_filtered_sub[:train_data_len + 1]\n",
    "valid = data_filtered_sub[train_data_len:]\n",
    "valid.insert(1, \"Prediction\", pred_unscaled.ravel(), True)\n",
    "valid.insert(1, \"Difference\", valid[\"Prediction\"] - valid[\"Close\"], True)\n",
    "\n",
    "\n",
    "# Visualize the data\n",
    "fig, ax1 = plt.subplots(figsize=(22, 10), sharex=True)\n",
    "xt = train['Date']; yt = train[[\"Close\"]]\n",
    "xv = valid['Date']; yv = valid[[\"Close\", \"Prediction\"]]\n",
    "plt.title(\"Predictions vs Actual Values\", fontsize=20)\n",
    "#plt.plot(xt, yt, color=\"#039dfc\", linewidth=2.0)\n",
    "plt.plot(xv, yv[\"Prediction\"], color=\"#E91D9E\", linewidth=2.0)\n",
    "plt.plot(xv, yv[\"Close\"], color=\"black\", linewidth=2.0)\n",
    "plt.legend([\"Train\", \"Test Predictions\", \"Actual Values\"], loc=\"upper left\")\n",
    "\n",
    "# # Create the bar plot with the differences\n",
    "x = valid['Date']\n",
    "y = valid[\"Difference\"]\n",
    "\n",
    "# Create custom color range for positive and negative differences\n",
    "valid.loc[y >= 0, 'diff_color'] = \"#2BC97A\"\n",
    "valid.loc[y < 0, 'diff_color'] = \"#C92B2B\"\n",
    "\n",
    "plt.bar(x, y, width=0.8, color=valid['diff_color'])\n",
    "plt.grid()\n",
    "plt.show()"
   ]
  },
  {
   "cell_type": "code",
   "execution_count": null,
   "metadata": {},
   "outputs": [],
   "source": []
  }
 ],
 "metadata": {
  "kernelspec": {
   "display_name": "Python 3",
   "language": "python",
   "name": "python3"
  },
  "language_info": {
   "codemirror_mode": {
    "name": "ipython",
    "version": 3
   },
   "file_extension": ".py",
   "mimetype": "text/x-python",
   "name": "python",
   "nbconvert_exporter": "python",
   "pygments_lexer": "ipython3",
   "version": "3.7.4"
  }
 },
 "nbformat": 4,
 "nbformat_minor": 2
}
