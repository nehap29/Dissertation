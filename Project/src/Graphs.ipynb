{
 "cells": [
  {
   "cell_type": "code",
   "execution_count": 12,
   "metadata": {},
   "outputs": [
    {
     "name": "stdout",
     "output_type": "stream",
     "text": [
      "[*********************100%***********************]  1 of 1 completed\n"
     ]
    }
   ],
   "source": [
    "import yfinance as yf\n",
    "import pandas as pd\n",
    "\n",
    "alldata = pd.read_csv(\"5min_data.csv\")\n",
    "\n",
    "boo = yf.download(\"CL=F\", interval = '5m', period='60d')\n",
    "\n",
    "dates = boo.index[int(len(boo)*0.8):-3]\n",
    "real = alldata[\"Open\"][int(len(alldata)*0.8):-(2536-2498-3)]"
   ]
  },
  {
   "cell_type": "code",
   "execution_count": 13,
   "metadata": {},
   "outputs": [
    {
     "name": "stdout",
     "output_type": "stream",
     "text": [
      "2495\n",
      "2501\n"
     ]
    }
   ],
   "source": [
    "print(len(dates))\n",
    "print(len(real))"
   ]
  },
  {
   "cell_type": "code",
   "execution_count": 11,
   "metadata": {},
   "outputs": [
    {
     "name": "stdout",
     "output_type": "stream",
     "text": [
      "2534\n",
      "0\n",
      "0\n",
      "2534\n",
      "0\n"
     ]
    }
   ],
   "source": [
    "lstm = open(\"5min-pred-lstm.txt\")\n",
    "#arima = open(\"5min-pred-arima.txt\")\n",
    "#real = open(\"5min-pred-real.txt\")\n",
    "gru = open(\"5min-pred-gru.txt\")\n",
    "#svm = open(\"pred-svm.txt\")\n",
    "\n",
    "a = lstm.readline()\n",
    "#b = arima.readline()\n",
    "#c = real.readline()\n",
    "d = gru.readline()\n",
    "#e = svm.readline()\n",
    "\n",
    "lstm = []\n",
    "arima = []\n",
    "real = []\n",
    "gru = []\n",
    "svm = []\n",
    "\n",
    "\n",
    "for i in a.split(','):\n",
    "    lstm.append(float(i))\n",
    "    \n",
    "#for i in b.split(','):\n",
    "#    arima.append(float(i))\n",
    "\n",
    "#for i in c.split(','):\n",
    "#    real.append(float(i))\n",
    "    \n",
    "for i in d.split(','):\n",
    "    gru.append(float(i))\n",
    "    \n",
    "#for i in e.split(','):\n",
    "#    svm.append(float(i))\n",
    "    \n",
    "#arima.pop()\n",
    "#arima.pop()\n",
    "\n",
    "#real.pop()\n",
    "#real.pop()\n",
    "\n",
    "#svm.pop()\n",
    "\n",
    "\n",
    "print(len(lstm))\n",
    "print(len(arima))\n",
    "print(len(real))\n",
    "print(len(gru))\n",
    "print(len(svm))"
   ]
  },
  {
   "cell_type": "code",
   "execution_count": null,
   "metadata": {},
   "outputs": [],
   "source": [
    "\n"
   ]
  },
  {
   "cell_type": "code",
   "execution_count": null,
   "metadata": {},
   "outputs": [],
   "source": [
    "import matplotlib.pyplot as plt\n",
    "plt.plot(dates,lstm, label = \"LSTM Prediction\")\n",
    "plt.plot(dates,real, label = \"True Values\")\n",
    "plt.gcf().set_size_inches(20, 10)\n",
    "plt.ylabel(\"Price\", fontsize=18)\n",
    "plt.xlabel(\"Date\", fontsize=18)\n",
    "plt.title(\"Comparison of LSTM predictions to true prices\", fontsize=18)\n",
    "plt.legend(fontsize=18)\n",
    "plt.show()"
   ]
  },
  {
   "cell_type": "code",
   "execution_count": null,
   "metadata": {},
   "outputs": [],
   "source": [
    "import matplotlib.pyplot as plt\n",
    "plt.plot(dates,gru, label = \"GRU Prediction\")\n",
    "plt.plot(dates,real, label = \"True Values\")\n",
    "plt.gcf().set_size_inches(20, 10)\n",
    "plt.ylabel(\"Price\", fontsize=18)\n",
    "plt.xlabel(\"Date\", fontsize=18)\n",
    "plt.title(\"Comparison of GRU predictions to true prices\", fontsize=18)\n",
    "plt.legend(fontsize=18)\n",
    "plt.show()"
   ]
  },
  {
   "cell_type": "code",
   "execution_count": null,
   "metadata": {},
   "outputs": [],
   "source": [
    "import matplotlib.pyplot as plt\n",
    "plt.plot(dates,arima, label = \"ARIMA Prediction\")\n",
    "plt.plot(dates,real, label = \"True Values\")\n",
    "plt.gcf().set_size_inches(20, 10)\n",
    "plt.ylabel(\"Price\", fontsize=18)\n",
    "plt.xlabel(\"Date\", fontsize=18)\n",
    "plt.title(\"Comparison of ARIMA predictions to true prices\", fontsize=18)\n",
    "plt.legend(fontsize=18)\n",
    "plt.show()"
   ]
  },
  {
   "cell_type": "code",
   "execution_count": null,
   "metadata": {},
   "outputs": [],
   "source": [
    "import matplotlib.pyplot as plt\n",
    "plt.plot(dates,svm, label = \"ARIMA Prediction\")\n",
    "plt.plot(dates,real, label = \"True Values\")\n",
    "plt.gcf().set_size_inches(20, 10)\n",
    "plt.ylabel(\"Price\", fontsize=18)\n",
    "plt.xlabel(\"Date\", fontsize=18)\n",
    "plt.title(\"Comparison of SVM predictions to true prices\", fontsize=18)\n",
    "plt.legend(fontsize=18)\n",
    "plt.show()"
   ]
  },
  {
   "cell_type": "code",
   "execution_count": null,
   "metadata": {},
   "outputs": [],
   "source": [
    "import yfinance as yf\n",
    "df = yf.download('CL=F', start ='2000-08-23' , end='2021-04-22')\n",
    "print(min(data.index))\n",
    "print(max(data.index))\n",
    "dates = data.index[int(len(data)*0.8):-2]\n",
    "\n",
    "svm = open(\"pred-svm.txt\")\n",
    "e = svm.readline()\n",
    "svm = []\n",
    "for i in e.split(','):\n",
    "    svm.append(float(i))\n",
    "svm.pop()\n",
    "print(len(svm))\n",
    "\n",
    "print(len(dates))\n",
    "    \n",
    "import matplotlib.pyplot as plt\n",
    "plt.plot(dates,svm, label = \"SVM Prediction\")\n",
    "plt.plot(dates,real, label = \"True Values\")\n",
    "plt.gcf().set_size_inches(20, 10)\n",
    "plt.ylabel(\"Price\", fontsize=18)\n",
    "plt.xlabel(\"Date\", fontsize=18)\n",
    "plt.title(\"Comparison of SVM predictions to true prices\", fontsize=18)\n",
    "plt.legend(fontsize=18)\n",
    "plt.show()"
   ]
  },
  {
   "cell_type": "code",
   "execution_count": null,
   "metadata": {},
   "outputs": [],
   "source": []
  }
 ],
 "metadata": {
  "kernelspec": {
   "display_name": "Python 3",
   "language": "python",
   "name": "python3"
  },
  "language_info": {
   "codemirror_mode": {
    "name": "ipython",
    "version": 3
   },
   "file_extension": ".py",
   "mimetype": "text/x-python",
   "name": "python",
   "nbconvert_exporter": "python",
   "pygments_lexer": "ipython3",
   "version": "3.7.4"
  }
 },
 "nbformat": 4,
 "nbformat_minor": 2
}
